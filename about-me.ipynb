{
 "cells": [
  {
   "cell_type": "markdown",
   "metadata": {},
   "source": [
    "## About Me Lab: AI Engineering, Data Analytics & Data Science\n",
    "\n",
    "In this notebook, you'll write a short introduction about yourself using Python!\n",
    "\n",
    "### Instructions:\n",
    "- Fill in the variables below with your details.\n",
    "- Run the cell to print your introduction.\n",
    "\n",
    "### What to Include:\n",
    "- Your name.\n",
    "- Why you're interested in AI Engineering, Data Analytics or Data Science.\n",
    "- A fun fact about yourself or a goal for this course.\n"
   ]
  },
  {
   "cell_type": "code",
   "execution_count": 1,
   "metadata": {},
   "outputs": [
    {
     "name": "stdout",
     "output_type": "stream",
     "text": [
      "Hi! My name is Vitor Gustavo Ramos de Almeida. I’m excited to learn because i started to fall in love with programming only now, unfortunatly, coincidentally it is also the same time i have my financial opportunity. A fun fact about me is: I like to hear music for the XIII century.\n"
     ]
    }
   ],
   "source": [
    "# About Me\n",
    "# Please fill in the following details.\n",
    "\n",
    "name = \"Vitor Gustavo Ramos de Almeida\"\n",
    "reason = \"i started to fall in love with programming only now, unfortunatly, coincidentally it is also the same time i have my financial opportunity\"\n",
    "fun_fact = \"I like to hear music for the XIII century\"\n",
    "\n",
    "print(f\"Hi! My name is {name}. I’m excited to learn because {reason}. A fun fact about me is: {fun_fact}.\")"
   ]
  },
  {
   "cell_type": "code",
   "execution_count": null,
   "metadata": {},
   "outputs": [],
   "source": []
  }
 ],
 "metadata": {
  "kernelspec": {
   "display_name": "Python 3",
   "language": "python",
   "name": "python3"
  },
  "language_info": {
   "codemirror_mode": {
    "name": "ipython",
    "version": 3
   },
   "file_extension": ".py",
   "mimetype": "text/x-python",
   "name": "python",
   "nbconvert_exporter": "python",
   "pygments_lexer": "ipython3",
   "version": "3.13.3"
  }
 },
 "nbformat": 4,
 "nbformat_minor": 2
}
